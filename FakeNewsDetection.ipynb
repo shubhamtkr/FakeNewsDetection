{
  "nbformat": 4,
  "nbformat_minor": 0,
  "metadata": {
    "colab": {
      "provenance": []
    },
    "kernelspec": {
      "name": "python3",
      "display_name": "Python 3"
    },
    "language_info": {
      "name": "python"
    }
  },
  "cells": [
    {
      "cell_type": "code",
      "execution_count": null,
      "metadata": {
        "id": "dvJeAr7A-IvY"
      },
      "outputs": [],
      "source": [
        "pip install tensorflow-text"
      ]
    },
    {
      "cell_type": "code",
      "source": [
        "import pandas as pd\n",
        "import seaborn as sns\n",
        "import numpy as np\n",
        "import tensorflow_hub as hub\n",
        "import tensorflow as tf\n",
        "from gensim.models import Word2Vec\n",
        "from sklearn.model_selection import train_test_split\n",
        "import tensorflow_hub as hub\n",
        "import tensorflow_text as text\n",
        "from gensim.models import Doc2Vec\n",
        "from gensim.models.doc2vec import TaggedDocument"
      ],
      "metadata": {
        "id": "9zZN9axc-kXm"
      },
      "execution_count": 2,
      "outputs": []
    },
    {
      "cell_type": "code",
      "source": [
        "data = pd.read_csv('/content/news_articles.csv')\n",
        "     "
      ],
      "metadata": {
        "id": "tuoTLzF3-sgm"
      },
      "execution_count": 3,
      "outputs": []
    },
    {
      "cell_type": "code",
      "source": [
        "\n",
        "data.head(2)"
      ],
      "metadata": {
        "colab": {
          "base_uri": "https://localhost:8080/",
          "height": 387
        },
        "id": "GCwyCTRP_FDz",
        "outputId": "e9d29386-314b-4ae9-d1e1-18261f619533"
      },
      "execution_count": 4,
      "outputs": [
        {
          "output_type": "execute_result",
          "data": {
            "text/plain": [
              "                 author                      published  \\\n",
              "0     Barracuda Brigade  2016-10-26T21:41:00.000+03:00   \n",
              "1  reasoning with facts  2016-10-29T08:47:11.259+03:00   \n",
              "\n",
              "                                               title  \\\n",
              "0  muslims busted they stole millions in govt ben...   \n",
              "1  re why did attorney general loretta lynch plea...   \n",
              "\n",
              "                                                text language  \\\n",
              "0  print they should pay all the back all the mon...  english   \n",
              "1  why did attorney general loretta lynch plead t...  english   \n",
              "\n",
              "              site_url                                       main_img_url  \\\n",
              "0  100percentfedup.com  http://bb4sp.com/wp-content/uploads/2016/10/Fu...   \n",
              "1  100percentfedup.com  http://bb4sp.com/wp-content/uploads/2016/10/Fu...   \n",
              "\n",
              "   type label                      title_without_stopwords  \\\n",
              "0  bias  Real  muslims busted stole millions govt benefits   \n",
              "1  bias  Real   attorney general loretta lynch plead fifth   \n",
              "\n",
              "                              text_without_stopwords  hasImage  \n",
              "0  print pay back money plus interest entire fami...       1.0  \n",
              "1  attorney general loretta lynch plead fifth bar...       1.0  "
            ],
            "text/html": [
              "\n",
              "  <div id=\"df-a48b372e-148f-4561-8da3-a0b831a5306d\">\n",
              "    <div class=\"colab-df-container\">\n",
              "      <div>\n",
              "<style scoped>\n",
              "    .dataframe tbody tr th:only-of-type {\n",
              "        vertical-align: middle;\n",
              "    }\n",
              "\n",
              "    .dataframe tbody tr th {\n",
              "        vertical-align: top;\n",
              "    }\n",
              "\n",
              "    .dataframe thead th {\n",
              "        text-align: right;\n",
              "    }\n",
              "</style>\n",
              "<table border=\"1\" class=\"dataframe\">\n",
              "  <thead>\n",
              "    <tr style=\"text-align: right;\">\n",
              "      <th></th>\n",
              "      <th>author</th>\n",
              "      <th>published</th>\n",
              "      <th>title</th>\n",
              "      <th>text</th>\n",
              "      <th>language</th>\n",
              "      <th>site_url</th>\n",
              "      <th>main_img_url</th>\n",
              "      <th>type</th>\n",
              "      <th>label</th>\n",
              "      <th>title_without_stopwords</th>\n",
              "      <th>text_without_stopwords</th>\n",
              "      <th>hasImage</th>\n",
              "    </tr>\n",
              "  </thead>\n",
              "  <tbody>\n",
              "    <tr>\n",
              "      <th>0</th>\n",
              "      <td>Barracuda Brigade</td>\n",
              "      <td>2016-10-26T21:41:00.000+03:00</td>\n",
              "      <td>muslims busted they stole millions in govt ben...</td>\n",
              "      <td>print they should pay all the back all the mon...</td>\n",
              "      <td>english</td>\n",
              "      <td>100percentfedup.com</td>\n",
              "      <td>http://bb4sp.com/wp-content/uploads/2016/10/Fu...</td>\n",
              "      <td>bias</td>\n",
              "      <td>Real</td>\n",
              "      <td>muslims busted stole millions govt benefits</td>\n",
              "      <td>print pay back money plus interest entire fami...</td>\n",
              "      <td>1.0</td>\n",
              "    </tr>\n",
              "    <tr>\n",
              "      <th>1</th>\n",
              "      <td>reasoning with facts</td>\n",
              "      <td>2016-10-29T08:47:11.259+03:00</td>\n",
              "      <td>re why did attorney general loretta lynch plea...</td>\n",
              "      <td>why did attorney general loretta lynch plead t...</td>\n",
              "      <td>english</td>\n",
              "      <td>100percentfedup.com</td>\n",
              "      <td>http://bb4sp.com/wp-content/uploads/2016/10/Fu...</td>\n",
              "      <td>bias</td>\n",
              "      <td>Real</td>\n",
              "      <td>attorney general loretta lynch plead fifth</td>\n",
              "      <td>attorney general loretta lynch plead fifth bar...</td>\n",
              "      <td>1.0</td>\n",
              "    </tr>\n",
              "  </tbody>\n",
              "</table>\n",
              "</div>\n",
              "      <button class=\"colab-df-convert\" onclick=\"convertToInteractive('df-a48b372e-148f-4561-8da3-a0b831a5306d')\"\n",
              "              title=\"Convert this dataframe to an interactive table.\"\n",
              "              style=\"display:none;\">\n",
              "        \n",
              "  <svg xmlns=\"http://www.w3.org/2000/svg\" height=\"24px\"viewBox=\"0 0 24 24\"\n",
              "       width=\"24px\">\n",
              "    <path d=\"M0 0h24v24H0V0z\" fill=\"none\"/>\n",
              "    <path d=\"M18.56 5.44l.94 2.06.94-2.06 2.06-.94-2.06-.94-.94-2.06-.94 2.06-2.06.94zm-11 1L8.5 8.5l.94-2.06 2.06-.94-2.06-.94L8.5 2.5l-.94 2.06-2.06.94zm10 10l.94 2.06.94-2.06 2.06-.94-2.06-.94-.94-2.06-.94 2.06-2.06.94z\"/><path d=\"M17.41 7.96l-1.37-1.37c-.4-.4-.92-.59-1.43-.59-.52 0-1.04.2-1.43.59L10.3 9.45l-7.72 7.72c-.78.78-.78 2.05 0 2.83L4 21.41c.39.39.9.59 1.41.59.51 0 1.02-.2 1.41-.59l7.78-7.78 2.81-2.81c.8-.78.8-2.07 0-2.86zM5.41 20L4 18.59l7.72-7.72 1.47 1.35L5.41 20z\"/>\n",
              "  </svg>\n",
              "      </button>\n",
              "      \n",
              "  <style>\n",
              "    .colab-df-container {\n",
              "      display:flex;\n",
              "      flex-wrap:wrap;\n",
              "      gap: 12px;\n",
              "    }\n",
              "\n",
              "    .colab-df-convert {\n",
              "      background-color: #E8F0FE;\n",
              "      border: none;\n",
              "      border-radius: 50%;\n",
              "      cursor: pointer;\n",
              "      display: none;\n",
              "      fill: #1967D2;\n",
              "      height: 32px;\n",
              "      padding: 0 0 0 0;\n",
              "      width: 32px;\n",
              "    }\n",
              "\n",
              "    .colab-df-convert:hover {\n",
              "      background-color: #E2EBFA;\n",
              "      box-shadow: 0px 1px 2px rgba(60, 64, 67, 0.3), 0px 1px 3px 1px rgba(60, 64, 67, 0.15);\n",
              "      fill: #174EA6;\n",
              "    }\n",
              "\n",
              "    [theme=dark] .colab-df-convert {\n",
              "      background-color: #3B4455;\n",
              "      fill: #D2E3FC;\n",
              "    }\n",
              "\n",
              "    [theme=dark] .colab-df-convert:hover {\n",
              "      background-color: #434B5C;\n",
              "      box-shadow: 0px 1px 3px 1px rgba(0, 0, 0, 0.15);\n",
              "      filter: drop-shadow(0px 1px 2px rgba(0, 0, 0, 0.3));\n",
              "      fill: #FFFFFF;\n",
              "    }\n",
              "  </style>\n",
              "\n",
              "      <script>\n",
              "        const buttonEl =\n",
              "          document.querySelector('#df-a48b372e-148f-4561-8da3-a0b831a5306d button.colab-df-convert');\n",
              "        buttonEl.style.display =\n",
              "          google.colab.kernel.accessAllowed ? 'block' : 'none';\n",
              "\n",
              "        async function convertToInteractive(key) {\n",
              "          const element = document.querySelector('#df-a48b372e-148f-4561-8da3-a0b831a5306d');\n",
              "          const dataTable =\n",
              "            await google.colab.kernel.invokeFunction('convertToInteractive',\n",
              "                                                     [key], {});\n",
              "          if (!dataTable) return;\n",
              "\n",
              "          const docLinkHtml = 'Like what you see? Visit the ' +\n",
              "            '<a target=\"_blank\" href=https://colab.research.google.com/notebooks/data_table.ipynb>data table notebook</a>'\n",
              "            + ' to learn more about interactive tables.';\n",
              "          element.innerHTML = '';\n",
              "          dataTable['output_type'] = 'display_data';\n",
              "          await google.colab.output.renderOutput(dataTable, element);\n",
              "          const docLink = document.createElement('div');\n",
              "          docLink.innerHTML = docLinkHtml;\n",
              "          element.appendChild(docLink);\n",
              "        }\n",
              "      </script>\n",
              "    </div>\n",
              "  </div>\n",
              "  "
            ]
          },
          "metadata": {},
          "execution_count": 4
        }
      ]
    },
    {
      "cell_type": "code",
      "source": [
        "data['label'].value_counts()"
      ],
      "metadata": {
        "colab": {
          "base_uri": "https://localhost:8080/"
        },
        "id": "ixtEI39y_H0L",
        "outputId": "efc9fa14-0fce-476e-b382-139176721160"
      },
      "execution_count": 5,
      "outputs": [
        {
          "output_type": "execute_result",
          "data": {
            "text/plain": [
              "Fake    1294\n",
              "Real     801\n",
              "Name: label, dtype: int64"
            ]
          },
          "metadata": {},
          "execution_count": 5
        }
      ]
    },
    {
      "cell_type": "code",
      "source": [
        "\n",
        "data = data[['title', 'label']]"
      ],
      "metadata": {
        "id": "4dBkB93X_J7U"
      },
      "execution_count": 6,
      "outputs": []
    },
    {
      "cell_type": "code",
      "source": [
        "data.head()"
      ],
      "metadata": {
        "colab": {
          "base_uri": "https://localhost:8080/",
          "height": 201
        },
        "id": "q6D_2TzJ_MOO",
        "outputId": "13bc2038-e8c7-465d-e652-af641f38e325"
      },
      "execution_count": 7,
      "outputs": [
        {
          "output_type": "execute_result",
          "data": {
            "text/plain": [
              "                                               title label\n",
              "0  muslims busted they stole millions in govt ben...  Real\n",
              "1  re why did attorney general loretta lynch plea...  Real\n",
              "2  breaking weiner cooperating with fbi on hillar...  Real\n",
              "3  pin drop speech by father of daughter kidnappe...  Real\n",
              "4  fantastic trumps  point plan to reform healthc...  Real"
            ],
            "text/html": [
              "\n",
              "  <div id=\"df-b9212b93-63c7-450e-9cd3-e54da451cba6\">\n",
              "    <div class=\"colab-df-container\">\n",
              "      <div>\n",
              "<style scoped>\n",
              "    .dataframe tbody tr th:only-of-type {\n",
              "        vertical-align: middle;\n",
              "    }\n",
              "\n",
              "    .dataframe tbody tr th {\n",
              "        vertical-align: top;\n",
              "    }\n",
              "\n",
              "    .dataframe thead th {\n",
              "        text-align: right;\n",
              "    }\n",
              "</style>\n",
              "<table border=\"1\" class=\"dataframe\">\n",
              "  <thead>\n",
              "    <tr style=\"text-align: right;\">\n",
              "      <th></th>\n",
              "      <th>title</th>\n",
              "      <th>label</th>\n",
              "    </tr>\n",
              "  </thead>\n",
              "  <tbody>\n",
              "    <tr>\n",
              "      <th>0</th>\n",
              "      <td>muslims busted they stole millions in govt ben...</td>\n",
              "      <td>Real</td>\n",
              "    </tr>\n",
              "    <tr>\n",
              "      <th>1</th>\n",
              "      <td>re why did attorney general loretta lynch plea...</td>\n",
              "      <td>Real</td>\n",
              "    </tr>\n",
              "    <tr>\n",
              "      <th>2</th>\n",
              "      <td>breaking weiner cooperating with fbi on hillar...</td>\n",
              "      <td>Real</td>\n",
              "    </tr>\n",
              "    <tr>\n",
              "      <th>3</th>\n",
              "      <td>pin drop speech by father of daughter kidnappe...</td>\n",
              "      <td>Real</td>\n",
              "    </tr>\n",
              "    <tr>\n",
              "      <th>4</th>\n",
              "      <td>fantastic trumps  point plan to reform healthc...</td>\n",
              "      <td>Real</td>\n",
              "    </tr>\n",
              "  </tbody>\n",
              "</table>\n",
              "</div>\n",
              "      <button class=\"colab-df-convert\" onclick=\"convertToInteractive('df-b9212b93-63c7-450e-9cd3-e54da451cba6')\"\n",
              "              title=\"Convert this dataframe to an interactive table.\"\n",
              "              style=\"display:none;\">\n",
              "        \n",
              "  <svg xmlns=\"http://www.w3.org/2000/svg\" height=\"24px\"viewBox=\"0 0 24 24\"\n",
              "       width=\"24px\">\n",
              "    <path d=\"M0 0h24v24H0V0z\" fill=\"none\"/>\n",
              "    <path d=\"M18.56 5.44l.94 2.06.94-2.06 2.06-.94-2.06-.94-.94-2.06-.94 2.06-2.06.94zm-11 1L8.5 8.5l.94-2.06 2.06-.94-2.06-.94L8.5 2.5l-.94 2.06-2.06.94zm10 10l.94 2.06.94-2.06 2.06-.94-2.06-.94-.94-2.06-.94 2.06-2.06.94z\"/><path d=\"M17.41 7.96l-1.37-1.37c-.4-.4-.92-.59-1.43-.59-.52 0-1.04.2-1.43.59L10.3 9.45l-7.72 7.72c-.78.78-.78 2.05 0 2.83L4 21.41c.39.39.9.59 1.41.59.51 0 1.02-.2 1.41-.59l7.78-7.78 2.81-2.81c.8-.78.8-2.07 0-2.86zM5.41 20L4 18.59l7.72-7.72 1.47 1.35L5.41 20z\"/>\n",
              "  </svg>\n",
              "      </button>\n",
              "      \n",
              "  <style>\n",
              "    .colab-df-container {\n",
              "      display:flex;\n",
              "      flex-wrap:wrap;\n",
              "      gap: 12px;\n",
              "    }\n",
              "\n",
              "    .colab-df-convert {\n",
              "      background-color: #E8F0FE;\n",
              "      border: none;\n",
              "      border-radius: 50%;\n",
              "      cursor: pointer;\n",
              "      display: none;\n",
              "      fill: #1967D2;\n",
              "      height: 32px;\n",
              "      padding: 0 0 0 0;\n",
              "      width: 32px;\n",
              "    }\n",
              "\n",
              "    .colab-df-convert:hover {\n",
              "      background-color: #E2EBFA;\n",
              "      box-shadow: 0px 1px 2px rgba(60, 64, 67, 0.3), 0px 1px 3px 1px rgba(60, 64, 67, 0.15);\n",
              "      fill: #174EA6;\n",
              "    }\n",
              "\n",
              "    [theme=dark] .colab-df-convert {\n",
              "      background-color: #3B4455;\n",
              "      fill: #D2E3FC;\n",
              "    }\n",
              "\n",
              "    [theme=dark] .colab-df-convert:hover {\n",
              "      background-color: #434B5C;\n",
              "      box-shadow: 0px 1px 3px 1px rgba(0, 0, 0, 0.15);\n",
              "      filter: drop-shadow(0px 1px 2px rgba(0, 0, 0, 0.3));\n",
              "      fill: #FFFFFF;\n",
              "    }\n",
              "  </style>\n",
              "\n",
              "      <script>\n",
              "        const buttonEl =\n",
              "          document.querySelector('#df-b9212b93-63c7-450e-9cd3-e54da451cba6 button.colab-df-convert');\n",
              "        buttonEl.style.display =\n",
              "          google.colab.kernel.accessAllowed ? 'block' : 'none';\n",
              "\n",
              "        async function convertToInteractive(key) {\n",
              "          const element = document.querySelector('#df-b9212b93-63c7-450e-9cd3-e54da451cba6');\n",
              "          const dataTable =\n",
              "            await google.colab.kernel.invokeFunction('convertToInteractive',\n",
              "                                                     [key], {});\n",
              "          if (!dataTable) return;\n",
              "\n",
              "          const docLinkHtml = 'Like what you see? Visit the ' +\n",
              "            '<a target=\"_blank\" href=https://colab.research.google.com/notebooks/data_table.ipynb>data table notebook</a>'\n",
              "            + ' to learn more about interactive tables.';\n",
              "          element.innerHTML = '';\n",
              "          dataTable['output_type'] = 'display_data';\n",
              "          await google.colab.output.renderOutput(dataTable, element);\n",
              "          const docLink = document.createElement('div');\n",
              "          docLink.innerHTML = docLinkHtml;\n",
              "          element.appendChild(docLink);\n",
              "        }\n",
              "      </script>\n",
              "    </div>\n",
              "  </div>\n",
              "  "
            ]
          },
          "metadata": {},
          "execution_count": 7
        }
      ]
    },
    {
      "cell_type": "code",
      "source": [
        "data['label'] = data['label'].map({'Real': 0, 'Fake':1})"
      ],
      "metadata": {
        "id": "i1C2-p-O_Pca"
      },
      "execution_count": 8,
      "outputs": []
    },
    {
      "cell_type": "code",
      "source": [
        "data.tail()"
      ],
      "metadata": {
        "colab": {
          "base_uri": "https://localhost:8080/",
          "height": 201
        },
        "id": "7_nYZU8v_R8G",
        "outputId": "cb35939b-4a8f-4262-8c07-cd50e9249a60"
      },
      "execution_count": 10,
      "outputs": [
        {
          "output_type": "execute_result",
          "data": {
            "text/plain": [
              "                                             title  label\n",
              "2090  prof canoes reek of genocide white privilege    0.0\n",
              "2091     teens walk free after gangrape conviction    0.0\n",
              "2092    school named for munichmassacre mastermind    0.0\n",
              "2093                 russia unveils satan  missile    1.0\n",
              "2094         check out hillarythemed haunted house    1.0"
            ],
            "text/html": [
              "\n",
              "  <div id=\"df-6795adf7-5735-45f7-a6d2-3cb9cd561f1b\">\n",
              "    <div class=\"colab-df-container\">\n",
              "      <div>\n",
              "<style scoped>\n",
              "    .dataframe tbody tr th:only-of-type {\n",
              "        vertical-align: middle;\n",
              "    }\n",
              "\n",
              "    .dataframe tbody tr th {\n",
              "        vertical-align: top;\n",
              "    }\n",
              "\n",
              "    .dataframe thead th {\n",
              "        text-align: right;\n",
              "    }\n",
              "</style>\n",
              "<table border=\"1\" class=\"dataframe\">\n",
              "  <thead>\n",
              "    <tr style=\"text-align: right;\">\n",
              "      <th></th>\n",
              "      <th>title</th>\n",
              "      <th>label</th>\n",
              "    </tr>\n",
              "  </thead>\n",
              "  <tbody>\n",
              "    <tr>\n",
              "      <th>2090</th>\n",
              "      <td>prof canoes reek of genocide white privilege</td>\n",
              "      <td>0.0</td>\n",
              "    </tr>\n",
              "    <tr>\n",
              "      <th>2091</th>\n",
              "      <td>teens walk free after gangrape conviction</td>\n",
              "      <td>0.0</td>\n",
              "    </tr>\n",
              "    <tr>\n",
              "      <th>2092</th>\n",
              "      <td>school named for munichmassacre mastermind</td>\n",
              "      <td>0.0</td>\n",
              "    </tr>\n",
              "    <tr>\n",
              "      <th>2093</th>\n",
              "      <td>russia unveils satan  missile</td>\n",
              "      <td>1.0</td>\n",
              "    </tr>\n",
              "    <tr>\n",
              "      <th>2094</th>\n",
              "      <td>check out hillarythemed haunted house</td>\n",
              "      <td>1.0</td>\n",
              "    </tr>\n",
              "  </tbody>\n",
              "</table>\n",
              "</div>\n",
              "      <button class=\"colab-df-convert\" onclick=\"convertToInteractive('df-6795adf7-5735-45f7-a6d2-3cb9cd561f1b')\"\n",
              "              title=\"Convert this dataframe to an interactive table.\"\n",
              "              style=\"display:none;\">\n",
              "        \n",
              "  <svg xmlns=\"http://www.w3.org/2000/svg\" height=\"24px\"viewBox=\"0 0 24 24\"\n",
              "       width=\"24px\">\n",
              "    <path d=\"M0 0h24v24H0V0z\" fill=\"none\"/>\n",
              "    <path d=\"M18.56 5.44l.94 2.06.94-2.06 2.06-.94-2.06-.94-.94-2.06-.94 2.06-2.06.94zm-11 1L8.5 8.5l.94-2.06 2.06-.94-2.06-.94L8.5 2.5l-.94 2.06-2.06.94zm10 10l.94 2.06.94-2.06 2.06-.94-2.06-.94-.94-2.06-.94 2.06-2.06.94z\"/><path d=\"M17.41 7.96l-1.37-1.37c-.4-.4-.92-.59-1.43-.59-.52 0-1.04.2-1.43.59L10.3 9.45l-7.72 7.72c-.78.78-.78 2.05 0 2.83L4 21.41c.39.39.9.59 1.41.59.51 0 1.02-.2 1.41-.59l7.78-7.78 2.81-2.81c.8-.78.8-2.07 0-2.86zM5.41 20L4 18.59l7.72-7.72 1.47 1.35L5.41 20z\"/>\n",
              "  </svg>\n",
              "      </button>\n",
              "      \n",
              "  <style>\n",
              "    .colab-df-container {\n",
              "      display:flex;\n",
              "      flex-wrap:wrap;\n",
              "      gap: 12px;\n",
              "    }\n",
              "\n",
              "    .colab-df-convert {\n",
              "      background-color: #E8F0FE;\n",
              "      border: none;\n",
              "      border-radius: 50%;\n",
              "      cursor: pointer;\n",
              "      display: none;\n",
              "      fill: #1967D2;\n",
              "      height: 32px;\n",
              "      padding: 0 0 0 0;\n",
              "      width: 32px;\n",
              "    }\n",
              "\n",
              "    .colab-df-convert:hover {\n",
              "      background-color: #E2EBFA;\n",
              "      box-shadow: 0px 1px 2px rgba(60, 64, 67, 0.3), 0px 1px 3px 1px rgba(60, 64, 67, 0.15);\n",
              "      fill: #174EA6;\n",
              "    }\n",
              "\n",
              "    [theme=dark] .colab-df-convert {\n",
              "      background-color: #3B4455;\n",
              "      fill: #D2E3FC;\n",
              "    }\n",
              "\n",
              "    [theme=dark] .colab-df-convert:hover {\n",
              "      background-color: #434B5C;\n",
              "      box-shadow: 0px 1px 3px 1px rgba(0, 0, 0, 0.15);\n",
              "      filter: drop-shadow(0px 1px 2px rgba(0, 0, 0, 0.3));\n",
              "      fill: #FFFFFF;\n",
              "    }\n",
              "  </style>\n",
              "\n",
              "      <script>\n",
              "        const buttonEl =\n",
              "          document.querySelector('#df-6795adf7-5735-45f7-a6d2-3cb9cd561f1b button.colab-df-convert');\n",
              "        buttonEl.style.display =\n",
              "          google.colab.kernel.accessAllowed ? 'block' : 'none';\n",
              "\n",
              "        async function convertToInteractive(key) {\n",
              "          const element = document.querySelector('#df-6795adf7-5735-45f7-a6d2-3cb9cd561f1b');\n",
              "          const dataTable =\n",
              "            await google.colab.kernel.invokeFunction('convertToInteractive',\n",
              "                                                     [key], {});\n",
              "          if (!dataTable) return;\n",
              "\n",
              "          const docLinkHtml = 'Like what you see? Visit the ' +\n",
              "            '<a target=\"_blank\" href=https://colab.research.google.com/notebooks/data_table.ipynb>data table notebook</a>'\n",
              "            + ' to learn more about interactive tables.';\n",
              "          element.innerHTML = '';\n",
              "          dataTable['output_type'] = 'display_data';\n",
              "          await google.colab.output.renderOutput(dataTable, element);\n",
              "          const docLink = document.createElement('div');\n",
              "          docLink.innerHTML = docLinkHtml;\n",
              "          element.appendChild(docLink);\n",
              "        }\n",
              "      </script>\n",
              "    </div>\n",
              "  </div>\n",
              "  "
            ]
          },
          "metadata": {},
          "execution_count": 10
        }
      ]
    },
    {
      "cell_type": "code",
      "source": [
        "data = data.dropna()"
      ],
      "metadata": {
        "id": "XZABKDm0_Ugq"
      },
      "execution_count": 9,
      "outputs": []
    },
    {
      "cell_type": "code",
      "source": [
        "\n",
        "data['label'].value_counts()"
      ],
      "metadata": {
        "colab": {
          "base_uri": "https://localhost:8080/"
        },
        "id": "SdstBFzI_Wgj",
        "outputId": "8fbb25fe-7d36-4559-e353-7ffdae376c17"
      },
      "execution_count": 11,
      "outputs": [
        {
          "output_type": "execute_result",
          "data": {
            "text/plain": [
              "1.0    1294\n",
              "0.0     801\n",
              "Name: label, dtype: int64"
            ]
          },
          "metadata": {},
          "execution_count": 11
        }
      ]
    },
    {
      "cell_type": "code",
      "source": [
        "\n",
        "# Character Length of Titles - Min, Mean, Max\n",
        "print('Mean Length', data['title'].apply(len).mean())\n",
        "print('Min Length', data['title'].apply(len).min())\n",
        "print('Max Length', data['title'].apply(len).max())\n",
        "\n",
        "x = data['title'].apply(len).plot.hist()"
      ],
      "metadata": {
        "colab": {
          "base_uri": "https://localhost:8080/",
          "height": 478
        },
        "id": "Rcd2viaC_Y2Y",
        "outputId": "7cdf204a-3855-4409-cbcf-48311fcfeb47"
      },
      "execution_count": 12,
      "outputs": [
        {
          "output_type": "stream",
          "name": "stdout",
          "text": [
            "Mean Length 61.22673031026253\n",
            "Min Length 2\n",
            "Max Length 443\n"
          ]
        },
        {
          "output_type": "display_data",
          "data": {
            "text/plain": [
              "<Figure size 640x480 with 1 Axes>"
            ],
            "image/png": "[encoded data removed]"
          },
          "metadata": {}
        }
      ]
    },
    {
      "cell_type": "code",
      "source": [
        "import nltk\n",
        "from nltk.tokenize import sent_tokenize\n",
        "from nltk.stem import WordNetLemmatizer \n",
        "from nltk.corpus import stopwords\n",
        "\n",
        "nltk.download('punkt')\n",
        "nltk.download('wordnet')\n",
        "nltk.download('stopwords')\n",
        "\n",
        "#Tokenize the string (create a list -> each index is a word)\n",
        "data['title'] = data.apply(lambda row: nltk.word_tokenize(row['title']), axis=1)\n",
        "\n",
        "#Define text lemmatization model (eg: walks will be changed to walk)\n",
        "lemmatizer = WordNetLemmatizer()\n",
        "\n",
        "#Loop through title dataframe and lemmatize each word\n",
        "def lemma(data):\n",
        "  return [lemmatizer.lemmatize(w) for w in data]\n",
        "\n",
        "#Apply to dataframe\n",
        "data['title'] = data['title'].apply(lemma)\n",
        "\n",
        "#Define all stopwords in the English language (it, was, for, etc.)\n",
        "stop = stopwords.words('english')\n",
        "\n",
        "#Remove them from our dataframe\n",
        "data['title'] = data['title'].apply(lambda x: [i for i in x if i not in stop])\n",
        "\n",
        "data.head()\n"
      ],
      "metadata": {
        "colab": {
          "base_uri": "https://localhost:8080/",
          "height": 283
        },
        "id": "wJlsUE8P_wNa",
        "outputId": "7c50444d-a82f-4580-ad03-61ed188ab788"
      },
      "execution_count": 13,
      "outputs": [
        {
          "output_type": "stream",
          "name": "stderr",
          "text": [
            "[nltk_data] Downloading package punkt to /root/nltk_data...\n",
            "[nltk_data]   Unzipping tokenizers/punkt.zip.\n",
            "[nltk_data] Downloading package wordnet to /root/nltk_data...\n",
            "[nltk_data] Downloading package stopwords to /root/nltk_data...\n",
            "[nltk_data]   Unzipping corpora/stopwords.zip.\n"
          ]
        },
        {
          "output_type": "execute_result",
          "data": {
            "text/plain": [
              "                                               title  label\n",
              "0    [muslim, busted, stole, million, govt, benefit]    0.0\n",
              "1  [attorney, general, loretta, lynch, plead, fifth]    0.0\n",
              "2  [breaking, weiner, cooperating, fbi, hillary, ...    0.0\n",
              "3  [pin, drop, speech, father, daughter, kidnappe...    0.0\n",
              "4  [fantastic, trump, point, plan, reform, health...    0.0"
            ],
            "text/html": [
              "\n",
              "  <div id=\"df-66d90d4a-f28c-4728-a0c6-648dde04e2f0\">\n",
              "    <div class=\"colab-df-container\">\n",
              "      <div>\n",
              "<style scoped>\n",
              "    .dataframe tbody tr th:only-of-type {\n",
              "        vertical-align: middle;\n",
              "    }\n",
              "\n",
              "    .dataframe tbody tr th {\n",
              "        vertical-align: top;\n",
              "    }\n",
              "\n",
              "    .dataframe thead th {\n",
              "        text-align: right;\n",
              "    }\n",
              "</style>\n",
              "<table border=\"1\" class=\"dataframe\">\n",
              "  <thead>\n",
              "    <tr style=\"text-align: right;\">\n",
              "      <th></th>\n",
              "      <th>title</th>\n",
              "      <th>label</th>\n",
              "    </tr>\n",
              "  </thead>\n",
              "  <tbody>\n",
              "    <tr>\n",
              "      <th>0</th>\n",
              "      <td>[muslim, busted, stole, million, govt, benefit]</td>\n",
              "      <td>0.0</td>\n",
              "    </tr>\n",
              "    <tr>\n",
              "      <th>1</th>\n",
              "      <td>[attorney, general, loretta, lynch, plead, fifth]</td>\n",
              "      <td>0.0</td>\n",
              "    </tr>\n",
              "    <tr>\n",
              "      <th>2</th>\n",
              "      <td>[breaking, weiner, cooperating, fbi, hillary, ...</td>\n",
              "      <td>0.0</td>\n",
              "    </tr>\n",
              "    <tr>\n",
              "      <th>3</th>\n",
              "      <td>[pin, drop, speech, father, daughter, kidnappe...</td>\n",
              "      <td>0.0</td>\n",
              "    </tr>\n",
              "    <tr>\n",
              "      <th>4</th>\n",
              "      <td>[fantastic, trump, point, plan, reform, health...</td>\n",
              "      <td>0.0</td>\n",
              "    </tr>\n",
              "  </tbody>\n",
              "</table>\n",
              "</div>\n",
              "      <button class=\"colab-df-convert\" onclick=\"convertToInteractive('df-66d90d4a-f28c-4728-a0c6-648dde04e2f0')\"\n",
              "              title=\"Convert this dataframe to an interactive table.\"\n",
              "              style=\"display:none;\">\n",
              "        \n",
              "  <svg xmlns=\"http://www.w3.org/2000/svg\" height=\"24px\"viewBox=\"0 0 24 24\"\n",
              "       width=\"24px\">\n",
              "    <path d=\"M0 0h24v24H0V0z\" fill=\"none\"/>\n",
              "    <path d=\"M18.56 5.44l.94 2.06.94-2.06 2.06-.94-2.06-.94-.94-2.06-.94 2.06-2.06.94zm-11 1L8.5 8.5l.94-2.06 2.06-.94-2.06-.94L8.5 2.5l-.94 2.06-2.06.94zm10 10l.94 2.06.94-2.06 2.06-.94-2.06-.94-.94-2.06-.94 2.06-2.06.94z\"/><path d=\"M17.41 7.96l-1.37-1.37c-.4-.4-.92-.59-1.43-.59-.52 0-1.04.2-1.43.59L10.3 9.45l-7.72 7.72c-.78.78-.78 2.05 0 2.83L4 21.41c.39.39.9.59 1.41.59.51 0 1.02-.2 1.41-.59l7.78-7.78 2.81-2.81c.8-.78.8-2.07 0-2.86zM5.41 20L4 18.59l7.72-7.72 1.47 1.35L5.41 20z\"/>\n",
              "  </svg>\n",
              "      </button>\n",
              "      \n",
              "  <style>\n",
              "    .colab-df-container {\n",
              "      display:flex;\n",
              "      flex-wrap:wrap;\n",
              "      gap: 12px;\n",
              "    }\n",
              "\n",
              "    .colab-df-convert {\n",
              "      background-color: #E8F0FE;\n",
              "      border: none;\n",
              "      border-radius: 50%;\n",
              "      cursor: pointer;\n",
              "      display: none;\n",
              "      fill: #1967D2;\n",
              "      height: 32px;\n",
              "      padding: 0 0 0 0;\n",
              "      width: 32px;\n",
              "    }\n",
              "\n",
              "    .colab-df-convert:hover {\n",
              "      background-color: #E2EBFA;\n",
              "      box-shadow: 0px 1px 2px rgba(60, 64, 67, 0.3), 0px 1px 3px 1px rgba(60, 64, 67, 0.15);\n",
              "      fill: #174EA6;\n",
              "    }\n",
              "\n",
              "    [theme=dark] .colab-df-convert {\n",
              "      background-color: #3B4455;\n",
              "      fill: #D2E3FC;\n",
              "    }\n",
              "\n",
              "    [theme=dark] .colab-df-convert:hover {\n",
              "      background-color: #434B5C;\n",
              "      box-shadow: 0px 1px 3px 1px rgba(0, 0, 0, 0.15);\n",
              "      filter: drop-shadow(0px 1px 2px rgba(0, 0, 0, 0.3));\n",
              "      fill: #FFFFFF;\n",
              "    }\n",
              "  </style>\n",
              "\n",
              "      <script>\n",
              "        const buttonEl =\n",
              "          document.querySelector('#df-66d90d4a-f28c-4728-a0c6-648dde04e2f0 button.colab-df-convert');\n",
              "        buttonEl.style.display =\n",
              "          google.colab.kernel.accessAllowed ? 'block' : 'none';\n",
              "\n",
              "        async function convertToInteractive(key) {\n",
              "          const element = document.querySelector('#df-66d90d4a-f28c-4728-a0c6-648dde04e2f0');\n",
              "          const dataTable =\n",
              "            await google.colab.kernel.invokeFunction('convertToInteractive',\n",
              "                                                     [key], {});\n",
              "          if (!dataTable) return;\n",
              "\n",
              "          const docLinkHtml = 'Like what you see? Visit the ' +\n",
              "            '<a target=\"_blank\" href=https://colab.research.google.com/notebooks/data_table.ipynb>data table notebook</a>'\n",
              "            + ' to learn more about interactive tables.';\n",
              "          element.innerHTML = '';\n",
              "          dataTable['output_type'] = 'display_data';\n",
              "          await google.colab.output.renderOutput(dataTable, element);\n",
              "          const docLink = document.createElement('div');\n",
              "          docLink.innerHTML = docLinkHtml;\n",
              "          element.appendChild(docLink);\n",
              "        }\n",
              "      </script>\n",
              "    </div>\n",
              "  </div>\n",
              "  "
            ]
          },
          "metadata": {},
          "execution_count": 13
        }
      ]
    },
    {
      "cell_type": "code",
      "source": [
        "#Extracting numpy arrays for the title and classes\n",
        "titles = data[\"title\"].values\n",
        "labels = data[\"label\"].values\n",
        "     "
      ],
      "metadata": {
        "id": "dBXrUYzE_2p1"
      },
      "execution_count": 14,
      "outputs": []
    },
    {
      "cell_type": "code",
      "source": [
        "\n",
        "#Split data into training and testing dataset\n",
        "title_train, title_test, y_train, y_test = train_test_split(titles, labels, \n",
        "                                                            test_size=0.3, \n",
        "                                                            random_state=1000)"
      ],
      "metadata": {
        "id": "mCXxqipc_6i5"
      },
      "execution_count": 15,
      "outputs": []
    },
    {
      "cell_type": "code",
      "source": [
        "embed = hub.load(\"https://tfhub.dev/google/Wiki-words-250/2\")\n",
        "\n",
        "#Convert each series of words to a word2vec embedding\n",
        "indiv = []\n",
        "for i in title_train:\n",
        "  temp = np.array(embed(i))\n",
        " \n",
        "  indiv.append(temp)\n",
        "\n",
        "#Accounts for different length of words\n",
        "indiv = tf.keras.preprocessing.sequence.pad_sequences(indiv,dtype='float')\n",
        "indiv.shape"
      ],
      "metadata": {
        "colab": {
          "base_uri": "https://localhost:8080/"
        },
        "id": "vn66RyPh_9ZI",
        "outputId": "e1f23a3f-97cd-4bb0-afd6-e3a193637933"
      },
      "execution_count": 18,
      "outputs": [
        {
          "output_type": "execute_result",
          "data": {
            "text/plain": [
              "(1466, 46, 250)"
            ]
          },
          "metadata": {},
          "execution_count": 18
        }
      ]
    },
    {
      "cell_type": "code",
      "source": [
        "\n",
        "test = []\n",
        "\n",
        "for i in title_test:\n",
        "  temp = np.array(embed(i))\n",
        "  test.append(temp)\n",
        "\n",
        "#Accounts for the different length of words in test data\n",
        "test = tf.keras.preprocessing.sequence.pad_sequences(test, dtype='float')"
      ],
      "metadata": {
        "id": "iwPI8lyeAAuM"
      },
      "execution_count": 19,
      "outputs": []
    },
    {
      "cell_type": "code",
      "source": [
        "#Sequential model has a 50 cell LSTM layer before Dense layers\n",
        "model = tf.keras.models.Sequential()\n",
        "\n",
        "\n",
        "model.add(tf.keras.layers.LSTM(50))\n",
        "model.add(tf.keras.layers.Dense(20,activation='relu'))\n",
        "model.add(tf.keras.layers.Dense(5,activation='relu'))\n",
        "\n",
        "model.add(tf.keras.layers.Dense(1,activation='sigmoid'))\n",
        "\n",
        "#Compile model with binary_crossentropy loss, Adam optimizer, and accuracy metrics\n",
        "model.compile(optimizer=tf.keras.optimizers.Adam(learning_rate = 1e-4),\\\n",
        "              loss=\"binary_crossentropy\", metrics=['accuracy'])\n",
        "\n",
        "#Train model on 10 epochs\n",
        "model.fit(indiv, y_train,validation_data=[test,y_test], epochs=20)"
      ],
      "metadata": {
        "colab": {
          "base_uri": "https://localhost:8080/"
        },
        "id": "DtbUxYvEAEmF",
        "outputId": "7a5573b3-d6ef-49e6-a059-ded3432ec057"
      },
      "execution_count": 20,
      "outputs": [
        {
          "output_type": "stream",
          "name": "stdout",
          "text": [
            "Epoch 1/20\n",
            "46/46 [==============================] - 6s 56ms/step - loss: 0.6947 - accuracy: 0.4523 - val_loss: 0.6924 - val_accuracy: 0.5485\n",
            "Epoch 2/20\n",
            "46/46 [==============================] - 2s 37ms/step - loss: 0.6906 - accuracy: 0.6064 - val_loss: 0.6890 - val_accuracy: 0.6153\n",
            "Epoch 3/20\n",
            "46/46 [==============================] - 3s 56ms/step - loss: 0.6869 - accuracy: 0.6207 - val_loss: 0.6855 - val_accuracy: 0.6121\n",
            "Epoch 4/20\n",
            "46/46 [==============================] - 2s 49ms/step - loss: 0.6826 - accuracy: 0.6207 - val_loss: 0.6812 - val_accuracy: 0.6121\n",
            "Epoch 5/20\n",
            "46/46 [==============================] - 2s 37ms/step - loss: 0.6766 - accuracy: 0.6201 - val_loss: 0.6752 - val_accuracy: 0.6121\n",
            "Epoch 6/20\n",
            "46/46 [==============================] - 2s 37ms/step - loss: 0.6660 - accuracy: 0.6201 - val_loss: 0.6665 - val_accuracy: 0.6121\n",
            "Epoch 7/20\n",
            "46/46 [==============================] - 2s 50ms/step - loss: 0.6601 - accuracy: 0.6201 - val_loss: 0.6643 - val_accuracy: 0.6121\n",
            "Epoch 8/20\n",
            "46/46 [==============================] - 2s 36ms/step - loss: 0.6570 - accuracy: 0.6201 - val_loss: 0.6621 - val_accuracy: 0.6121\n",
            "Epoch 9/20\n",
            "46/46 [==============================] - 2s 37ms/step - loss: 0.6524 - accuracy: 0.6201 - val_loss: 0.6603 - val_accuracy: 0.6121\n",
            "Epoch 10/20\n",
            "46/46 [==============================] - 3s 71ms/step - loss: 0.6483 - accuracy: 0.6201 - val_loss: 0.6599 - val_accuracy: 0.6153\n",
            "Epoch 11/20\n",
            "46/46 [==============================] - 2s 37ms/step - loss: 0.6441 - accuracy: 0.6207 - val_loss: 0.6552 - val_accuracy: 0.6153\n",
            "Epoch 12/20\n",
            "46/46 [==============================] - 2s 38ms/step - loss: 0.6399 - accuracy: 0.6207 - val_loss: 0.6523 - val_accuracy: 0.6153\n",
            "Epoch 13/20\n",
            "46/46 [==============================] - 2s 37ms/step - loss: 0.6345 - accuracy: 0.6241 - val_loss: 0.6536 - val_accuracy: 0.6121\n",
            "Epoch 14/20\n",
            "46/46 [==============================] - 2s 37ms/step - loss: 0.6303 - accuracy: 0.6289 - val_loss: 0.6527 - val_accuracy: 0.5962\n",
            "Epoch 15/20\n",
            "46/46 [==============================] - 2s 37ms/step - loss: 0.6227 - accuracy: 0.6317 - val_loss: 0.6485 - val_accuracy: 0.5962\n",
            "Epoch 16/20\n",
            "46/46 [==============================] - 2s 46ms/step - loss: 0.6164 - accuracy: 0.6453 - val_loss: 0.6486 - val_accuracy: 0.6121\n",
            "Epoch 17/20\n",
            "46/46 [==============================] - 3s 60ms/step - loss: 0.6088 - accuracy: 0.6501 - val_loss: 0.6461 - val_accuracy: 0.6153\n",
            "Epoch 18/20\n",
            "46/46 [==============================] - 2s 37ms/step - loss: 0.6021 - accuracy: 0.6623 - val_loss: 0.6462 - val_accuracy: 0.6153\n",
            "Epoch 19/20\n",
            "46/46 [==============================] - 2s 37ms/step - loss: 0.5986 - accuracy: 0.6651 - val_loss: 0.6452 - val_accuracy: 0.6216\n",
            "Epoch 20/20\n",
            "46/46 [==============================] - 2s 36ms/step - loss: 0.5944 - accuracy: 0.6651 - val_loss: 0.6451 - val_accuracy: 0.6137\n"
          ]
        },
        {
          "output_type": "execute_result",
          "data": {
            "text/plain": [
              "<keras.callbacks.History at 0x7f039e89a520>"
            ]
          },
          "metadata": {},
          "execution_count": 20
        }
      ]
    },
    {
      "cell_type": "code",
      "source": [
        "#Create a word2vec model\n",
        "vec = Word2Vec(min_count=1)\n",
        "\n",
        "#Build its vocabulary by looping through the title dataset\n",
        "vec.build_vocab([x for x in data['title'].values])\n",
        "\n",
        "#Print the vocabulary size\n",
        "print(len(vec.wv))\n",
        "\n",
        "#Train our word2vec model on all titles for 5 epochs\n",
        "vec.train([x for x in data['title'].values],total_examples=vec.corpus_count,epochs=5)"
      ],
      "metadata": {
        "colab": {
          "base_uri": "https://localhost:8080/"
        },
        "id": "9t0uusIDALyB",
        "outputId": "6aba1b14-a612-43ce-f9f9-db7cdc0305f6"
      },
      "execution_count": 23,
      "outputs": [
        {
          "output_type": "stream",
          "name": "stdout",
          "text": [
            "5308\n"
          ]
        },
        {
          "output_type": "execute_result",
          "data": {
            "text/plain": [
              "(71133, 75985)"
            ]
          },
          "metadata": {},
          "execution_count": 23
        }
      ]
    },
    {
      "cell_type": "code",
      "source": [
        "#Add a tag which denotes a new document everytime a new dataset is seen\n",
        "#Example: [[word1,word2,word3,word4],document0]\n",
        "tags = [TaggedDocument(doc, [i]) for i, doc in enumerate(title_train)]\n",
        "\n",
        "#Define the Doc2Vec model\n",
        "doc = Doc2Vec(tags,vector_size=100,min_count=1,epochs=5)\n",
        "#Build the vocabulary based on the tag structures defined above\n",
        "#doc.build_vocab(tags)\n",
        "#Train the doc2vec model\n",
        "doc.train(tags, total_examples=doc.corpus_count,epochs=doc.epochs)"
      ],
      "metadata": {
        "colab": {
          "base_uri": "https://localhost:8080/"
        },
        "id": "GmBE7D9NAXay",
        "outputId": "47e6fe1e-90cc-4363-c976-797425ffe111"
      },
      "execution_count": 24,
      "outputs": [
        {
          "output_type": "stream",
          "name": "stderr",
          "text": [
            "WARNING:gensim.models.word2vec:Effective 'alpha' higher than previous training cycles\n"
          ]
        }
      ]
    },
    {
      "cell_type": "code",
      "source": [
        "\n",
        "print(len(doc.wv))"
      ],
      "metadata": {
        "colab": {
          "base_uri": "https://localhost:8080/"
        },
        "id": "OqfrpEWDAaPy",
        "outputId": "720ee149-6fb1-4b8a-e7b4-aa8eeff69926"
      },
      "execution_count": 26,
      "outputs": [
        {
          "output_type": "stream",
          "name": "stdout",
          "text": [
            "4290\n"
          ]
        }
      ]
    },
    {
      "cell_type": "code",
      "source": [
        "train_vectors = [doc.infer_vector(i) for i in title_train]\n",
        "     \n",
        "\n",
        "test_vectors = [doc.infer_vector(i) for i in title_test]\n",
        "     \n",
        "\n",
        "train_vectors = np.array(train_vectors)\n",
        "test_vectors = np.array(test_vectors)\n",
        "     \n",
        "\n",
        "train_vectors.shape"
      ],
      "metadata": {
        "colab": {
          "base_uri": "https://localhost:8080/"
        },
        "id": "ZoOSC4KSAho3",
        "outputId": "6fe069fc-7467-40f8-c40d-8c2ffa45dca2"
      },
      "execution_count": 27,
      "outputs": [
        {
          "output_type": "execute_result",
          "data": {
            "text/plain": [
              "(1466, 100)"
            ]
          },
          "metadata": {},
          "execution_count": 27
        }
      ]
    },
    {
      "cell_type": "code",
      "source": [
        "#Sequential model\n",
        "model = tf.keras.Sequential()\n",
        "\n",
        "#Dense layer - 128 units -input shape is for the 100 vector length, relu activation\n",
        "model.add(tf.keras.layers.Dense(128,input_shape=[100],activation='relu'))\n",
        "#'Turn off' half the neurons (reduce overfitting - model will not memorize data and will understand patterns)\n",
        "model.add(tf.keras.layers.Dropout(0.5))\n",
        "#Dense layer - 64 units, relu activation\n",
        "model.add(tf.keras.layers.Dense(64,activation='relu'))\n",
        "#Dense layer - 32 units, relu activation\n",
        "model.add(tf.keras.layers.Dense(32,activation='relu'))\n",
        "#Dense layer - 16 units, relu activation\n",
        "model.add(tf.keras.layers.Dense(16,activation='relu'))\n",
        "#Dense layer - 1 units, sigmoid activation\n",
        "#Binary problem - probability of 1 class - derived with sigmoid\n",
        "model.add(tf.keras.layers.Dense(1,activation='sigmoid'))\n",
        "\n",
        "#Train on Adam optimizer with 1e-4 learning rate, loss of binary crossentropy, accuracy tracked\n",
        "model.compile(optimizer=tf.keras.optimizers.Adam(learning_rate = 1e-4),loss=\"binary_crossentropy\", metrics=['accuracy'])\n",
        "\n",
        "#Train on training set, test on testing set, for 5 epochs\n",
        "model.fit(train_vectors,y_train,validation_data=[test_vectors,y_test], epochs= 15)\n",
        "\n",
        "#Show model architecture\n",
        "model.summary()"
      ],
      "metadata": {
        "colab": {
          "base_uri": "https://localhost:8080/"
        },
        "id": "rVQ2Byh-Anjq",
        "outputId": "a8c4f67d-9f8e-4839-818c-84e5e9fcf780"
      },
      "execution_count": 28,
      "outputs": [
        {
          "output_type": "stream",
          "name": "stdout",
          "text": [
            "Epoch 1/15\n",
            "46/46 [==============================] - 1s 8ms/step - loss: 0.6905 - accuracy: 0.6126 - val_loss: 0.6877 - val_accuracy: 0.6121\n",
            "Epoch 2/15\n",
            "46/46 [==============================] - 0s 4ms/step - loss: 0.6838 - accuracy: 0.6201 - val_loss: 0.6809 - val_accuracy: 0.6121\n",
            "Epoch 3/15\n",
            "46/46 [==============================] - 0s 3ms/step - loss: 0.6765 - accuracy: 0.6201 - val_loss: 0.6745 - val_accuracy: 0.6121\n",
            "Epoch 4/15\n",
            "46/46 [==============================] - 0s 4ms/step - loss: 0.6699 - accuracy: 0.6201 - val_loss: 0.6701 - val_accuracy: 0.6121\n",
            "Epoch 5/15\n",
            "46/46 [==============================] - 0s 4ms/step - loss: 0.6656 - accuracy: 0.6201 - val_loss: 0.6679 - val_accuracy: 0.6121\n",
            "Epoch 6/15\n",
            "46/46 [==============================] - 0s 4ms/step - loss: 0.6643 - accuracy: 0.6201 - val_loss: 0.6675 - val_accuracy: 0.6121\n",
            "Epoch 7/15\n",
            "46/46 [==============================] - 0s 4ms/step - loss: 0.6628 - accuracy: 0.6201 - val_loss: 0.6675 - val_accuracy: 0.6121\n",
            "Epoch 8/15\n",
            "46/46 [==============================] - 0s 4ms/step - loss: 0.6628 - accuracy: 0.6201 - val_loss: 0.6675 - val_accuracy: 0.6121\n",
            "Epoch 9/15\n",
            "46/46 [==============================] - 0s 4ms/step - loss: 0.6634 - accuracy: 0.6201 - val_loss: 0.6676 - val_accuracy: 0.6121\n",
            "Epoch 10/15\n",
            "46/46 [==============================] - 0s 4ms/step - loss: 0.6627 - accuracy: 0.6201 - val_loss: 0.6674 - val_accuracy: 0.6121\n",
            "Epoch 11/15\n",
            "46/46 [==============================] - 0s 3ms/step - loss: 0.6626 - accuracy: 0.6201 - val_loss: 0.6674 - val_accuracy: 0.6121\n",
            "Epoch 12/15\n",
            "46/46 [==============================] - 0s 4ms/step - loss: 0.6635 - accuracy: 0.6201 - val_loss: 0.6673 - val_accuracy: 0.6121\n",
            "Epoch 13/15\n",
            "46/46 [==============================] - 0s 5ms/step - loss: 0.6632 - accuracy: 0.6201 - val_loss: 0.6673 - val_accuracy: 0.6121\n",
            "Epoch 14/15\n",
            "46/46 [==============================] - 0s 4ms/step - loss: 0.6631 - accuracy: 0.6201 - val_loss: 0.6673 - val_accuracy: 0.6121\n",
            "Epoch 15/15\n",
            "46/46 [==============================] - 0s 4ms/step - loss: 0.6630 - accuracy: 0.6201 - val_loss: 0.6671 - val_accuracy: 0.6121\n",
            "Model: \"sequential_1\"\n",
            "_________________________________________________________________\n",
            " Layer (type)                Output Shape              Param #   \n",
            "=================================================================\n",
            " dense_3 (Dense)             (None, 128)               12928     \n",
            "                                                                 \n",
            " dropout (Dropout)           (None, 128)               0         \n",
            "                                                                 \n",
            " dense_4 (Dense)             (None, 64)                8256      \n",
            "                                                                 \n",
            " dense_5 (Dense)             (None, 32)                2080      \n",
            "                                                                 \n",
            " dense_6 (Dense)             (None, 16)                528       \n",
            "                                                                 \n",
            " dense_7 (Dense)             (None, 1)                 17        \n",
            "                                                                 \n",
            "=================================================================\n",
            "Total params: 23,809\n",
            "Trainable params: 23,809\n",
            "Non-trainable params: 0\n",
            "_________________________________________________________________\n"
          ]
        }
      ]
    }
  ]
}